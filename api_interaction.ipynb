{
 "cells": [
  {
   "cell_type": "code",
   "execution_count": null,
   "id": "9d323189",
   "metadata": {},
   "outputs": [],
   "source": [
    "import random\n",
    "import redis\n",
    "import requests\n",
    "import jupyter_black\n",
    "from datetime import timedelta\n",
    "\n",
    "# jupyter_black.load()"
   ]
  },
  {
   "cell_type": "code",
   "execution_count": 41,
   "id": "304b0768",
   "metadata": {},
   "outputs": [],
   "source": [
    "BASE_URL = \"http://127.0.0.1:5001\""
   ]
  },
  {
   "cell_type": "code",
   "execution_count": 42,
   "id": "fdfdd125",
   "metadata": {},
   "outputs": [],
   "source": [
    "class apiSession:\n",
    "    def __init__(self, session=None):\n",
    "        if session is None:\n",
    "            self.session = requests.Session()\n",
    "        else:\n",
    "            self.session = session\n",
    "\n",
    "    def send_request(\n",
    "        self,\n",
    "        endpoint: str,\n",
    "        request_type: str = \"GET\",\n",
    "        query_params: dict = {},\n",
    "        json_payload: dict = {},\n",
    "        auth: tuple = (),\n",
    "    ) -> requests.models.Response:\n",
    "        request_type = request_type.upper()\n",
    "        valid_request_types = [\"GET\", \"POST\", \"PUT\"]\n",
    "        if request_type not in valid_request_types:\n",
    "            raise ValueError(\n",
    "                f\"Invalid 'request_type' {request_type} passed must be in {valid_request_types}\"\n",
    "            )\n",
    "\n",
    "        url = BASE_URL + endpoint\n",
    "        if request_type == \"GET\":\n",
    "            response = self.session.get(url=url, params=query_params, auth=auth)\n",
    "        elif request_type == \"POST\":\n",
    "            response = self.session.post(url=url, json=json_payload)\n",
    "\n",
    "        print(\n",
    "            f\"Received status_code {response.status_code} for request_type '{request_type}' on url '{url}'\"\n",
    "        )\n",
    "        return response\n",
    "\n",
    "    redis_connection = redis.Redis()"
   ]
  },
  {
   "cell_type": "code",
   "execution_count": 43,
   "id": "9f1e80aa",
   "metadata": {},
   "outputs": [],
   "source": [
    "# Create a session with the API\n",
    "api_session = apiSession()"
   ]
  },
  {
   "cell_type": "code",
   "execution_count": 44,
   "id": "a785cabb",
   "metadata": {},
   "outputs": [
    {
     "name": "stdout",
     "output_type": "stream",
     "text": [
      "Received status_code 200 for request_type 'POST' on url 'http://127.0.0.1:5001/create_account'\n"
     ]
    },
    {
     "data": {
      "text/plain": [
       "<Response [200]>"
      ]
     },
     "execution_count": 44,
     "metadata": {},
     "output_type": "execute_result"
    }
   ],
   "source": [
    "random_num = random.randint(1, 1000)\n",
    "response = api_session.send_request(\n",
    "    request_type=\"POST\",\n",
    "    endpoint=f\"/create_account\",\n",
    "    json_payload={\n",
    "        \"username\": \"dan_lenehan97\",\n",
    "        \"email\": f\"daniel.lenehan.work_{random_num}@gmail.com\",\n",
    "        \"password\": \"testing123\",\n",
    "    },\n",
    ")\n",
    "response"
   ]
  },
  {
   "cell_type": "code",
   "execution_count": 45,
   "id": "bb0ed07f",
   "metadata": {},
   "outputs": [
    {
     "name": "stdout",
     "output_type": "stream",
     "text": [
      "Received status_code 200 for request_type 'POST' on url 'http://127.0.0.1:5001/login'\n"
     ]
    },
    {
     "data": {
      "text/plain": [
       "'{\\n  \"success\": \"User valid\"\\n}\\n'"
      ]
     },
     "execution_count": 45,
     "metadata": {},
     "output_type": "execute_result"
    }
   ],
   "source": [
    "response = api_session.send_request(\n",
    "    endpoint=\"/login\",\n",
    "    request_type=\"POST\",\n",
    "    json_payload={\n",
    "        \"email\": f\"daniel.lenehan.work_{random_num}@gmail.com\",\n",
    "        \"password\": \"testing123\",\n",
    "    },\n",
    ")\n",
    "response.text"
   ]
  },
  {
   "cell_type": "code",
   "execution_count": 46,
   "id": "95a212da",
   "metadata": {},
   "outputs": [
    {
     "name": "stdout",
     "output_type": "stream",
     "text": [
      "Received status_code 200 for request_type 'POST' on url 'http://127.0.0.1:5001/logout'\n"
     ]
    },
    {
     "data": {
      "text/plain": [
       "'{\\n  \"success\": \"user logged out\"\\n}\\n'"
      ]
     },
     "execution_count": 46,
     "metadata": {},
     "output_type": "execute_result"
    }
   ],
   "source": [
    "response = api_session.send_request(\n",
    "    endpoint=\"/logout\",\n",
    "    request_type=\"POST\",\n",
    "    json_payload={\"email\": f\"daniel.lenehan.work_{7}@gmail.com\"},\n",
    ")\n",
    "response.text"
   ]
  }
 ],
 "metadata": {
  "kernelspec": {
   "display_name": "Python 3 (ipykernel)",
   "language": "python",
   "name": "python3"
  },
  "language_info": {
   "codemirror_mode": {
    "name": "ipython",
    "version": 3
   },
   "file_extension": ".py",
   "mimetype": "text/x-python",
   "name": "python",
   "nbconvert_exporter": "python",
   "pygments_lexer": "ipython3",
   "version": "3.10.0"
  }
 },
 "nbformat": 4,
 "nbformat_minor": 5
}
